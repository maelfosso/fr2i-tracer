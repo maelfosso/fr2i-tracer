{
  "nbformat": 4,
  "nbformat_minor": 0,
  "metadata": {
    "colab": {
      "name": "f2ri_images_classification.ipynb",
      "provenance": [],
      "toc_visible": true
    },
    "kernelspec": {
      "display_name": "Python 3",
      "name": "python3"
    }
  },
  "cells": [
    {
      "cell_type": "code",
      "metadata": {
        "id": "omOMt3c1MzSB"
      },
      "source": [
        ""
      ],
      "execution_count": null,
      "outputs": []
    },
    {
      "cell_type": "code",
      "metadata": {
        "id": "L1WtoaOHVrVh"
      },
      "source": [
        "import matplotlib.pyplot as plt\n",
        "import numpy as np\n",
        "import os\n",
        "import PIL\n",
        "import tensorflow as tf\n",
        "\n",
        "from tensorflow import keras\n",
        "from tensorflow.keras import layers\n",
        "from tensorflow.keras.models import Sequential"
      ],
      "execution_count": null,
      "outputs": []
    },
    {
      "cell_type": "markdown",
      "metadata": {
        "id": "v0zPASEcbDnJ"
      },
      "source": [
        "# Kaggle installation and Data Downloading\n"
      ]
    },
    {
      "cell_type": "code",
      "metadata": {
        "colab": {
          "base_uri": "https://localhost:8080/"
        },
        "id": "4dXYN2ERVdl9",
        "outputId": "275a88b8-92e3-4985-a10e-973ba79c2a2b"
      },
      "source": [
        "!pip install kaggle"
      ],
      "execution_count": null,
      "outputs": [
        {
          "output_type": "stream",
          "text": [
            "Requirement already satisfied: kaggle in /usr/local/lib/python3.6/dist-packages (1.5.9)\n",
            "Requirement already satisfied: certifi in /usr/local/lib/python3.6/dist-packages (from kaggle) (2020.6.20)\n",
            "Requirement already satisfied: slugify in /usr/local/lib/python3.6/dist-packages (from kaggle) (0.0.1)\n",
            "Requirement already satisfied: tqdm in /usr/local/lib/python3.6/dist-packages (from kaggle) (4.41.1)\n",
            "Requirement already satisfied: urllib3 in /usr/local/lib/python3.6/dist-packages (from kaggle) (1.24.3)\n",
            "Requirement already satisfied: requests in /usr/local/lib/python3.6/dist-packages (from kaggle) (2.23.0)\n",
            "Requirement already satisfied: python-slugify in /usr/local/lib/python3.6/dist-packages (from kaggle) (4.0.1)\n",
            "Requirement already satisfied: six>=1.10 in /usr/local/lib/python3.6/dist-packages (from kaggle) (1.15.0)\n",
            "Requirement already satisfied: python-dateutil in /usr/local/lib/python3.6/dist-packages (from kaggle) (2.8.1)\n",
            "Requirement already satisfied: idna<3,>=2.5 in /usr/local/lib/python3.6/dist-packages (from requests->kaggle) (2.10)\n",
            "Requirement already satisfied: chardet<4,>=3.0.2 in /usr/local/lib/python3.6/dist-packages (from requests->kaggle) (3.0.4)\n",
            "Requirement already satisfied: text-unidecode>=1.3 in /usr/local/lib/python3.6/dist-packages (from python-slugify->kaggle) (1.3)\n"
          ],
          "name": "stdout"
        }
      ]
    },
    {
      "cell_type": "code",
      "metadata": {
        "id": "vEJGQ_-BW7eo"
      },
      "source": [
        "!mkdir .kaggle"
      ],
      "execution_count": null,
      "outputs": []
    },
    {
      "cell_type": "code",
      "metadata": {
        "id": "4o2UirGWXkaJ"
      },
      "source": [
        "!mv kaggle.json .kaggle/"
      ],
      "execution_count": null,
      "outputs": []
    },
    {
      "cell_type": "code",
      "metadata": {
        "id": "uNYFd8CoYJGC"
      },
      "source": [
        "!cp /content/.kaggle/kaggle.json ~/.kaggle/kaggle.json"
      ],
      "execution_count": null,
      "outputs": []
    },
    {
      "cell_type": "code",
      "metadata": {
        "colab": {
          "base_uri": "https://localhost:8080/"
        },
        "id": "dOnQvJjdX9g5",
        "outputId": "bded04c2-d9f3-42ef-ea88-b0566d77c5c5"
      },
      "source": [
        "!kaggle config set -n path -v/{/content}"
      ],
      "execution_count": null,
      "outputs": [
        {
          "output_type": "stream",
          "text": [
            "Warning: Your Kaggle API key is readable by other users on this system! To fix this, you can run 'chmod 600 /root/.kaggle/kaggle.json'\n",
            "- path is now set to: /{/content}\n"
          ],
          "name": "stdout"
        }
      ]
    },
    {
      "cell_type": "code",
      "metadata": {
        "id": "UtD7mtaRYlFB"
      },
      "source": [
        "!chmod 600 /root/.kaggle/kaggle.json"
      ],
      "execution_count": null,
      "outputs": []
    },
    {
      "cell_type": "code",
      "metadata": {
        "colab": {
          "base_uri": "https://localhost:8080/"
        },
        "id": "OPSWpMu-YqHZ",
        "outputId": "d4994120-d37b-45b5-e9d5-012e4054bea4"
      },
      "source": [
        "!kaggle datasets list"
      ],
      "execution_count": null,
      "outputs": [
        {
          "output_type": "stream",
          "text": [
            "Warning: Looks like you're using an outdated API Version, please consider updating (server 1.5.9 / client 1.5.4)\n",
            "ref                                                     title                                              size  lastUpdated          downloadCount  \n",
            "------------------------------------------------------  -----------------------------------------------  ------  -------------------  -------------  \n",
            "unanimad/us-election-2020                               US Election 2020                                  428KB  2020-11-20 10:47:51           6673  \n",
            "antgoldbloom/covid19-data-from-john-hopkins-university  COVID-19 data from John Hopkins University          3MB  2020-11-20 06:04:06           2945  \n",
            "manchunhui/us-election-2020-tweets                      US Election 2020 Tweets                           353MB  2020-11-09 18:51:59           2966  \n",
            "headsortails/us-election-2020-presidential-debates      US Election 2020 - Presidential Debates           199MB  2020-10-23 16:56:10            536  \n",
            "etsc9287/2020-general-election-polls                    Election, COVID, and Demographic Data by County  1020KB  2020-11-14 19:52:25           1077  \n",
            "radustoicescu/2020-united-states-presidential-election  2020 United States presidential election           11MB  2019-07-04 15:00:45            832  \n",
            "shivamb/netflix-shows                                   Netflix Movies and TV Shows                       971KB  2020-01-20 07:33:56          61498  \n",
            "terenceshin/covid19s-impact-on-airport-traffic          COVID-19's Impact on Airport Traffic              106KB  2020-10-19 12:40:17           4710  \n",
            "sootersaalu/amazon-top-50-bestselling-books-2009-2019   Amazon Top 50 Bestselling Books 2009 - 2019        15KB  2020-10-13 09:39:21           5061  \n",
            "nehaprabhavalkar/indian-food-101                        Indian Food 101                                     7KB  2020-09-30 06:23:43           7797  \n",
            "karangadiya/fifa19                                      FIFA 19 complete player dataset                     2MB  2018-12-21 03:52:59         104884  \n",
            "heeraldedhia/groceries-dataset                          Groceries dataset                                 257KB  2020-09-17 04:36:08           8228  \n",
            "andrewmvd/trip-advisor-hotel-reviews                    Trip Advisor Hotel Reviews                          5MB  2020-09-30 08:31:20           5423  \n",
            "docstein/brics-world-bank-indicators                    BRICS World Bank Indicators                         4MB  2020-10-22 12:18:40           1262  \n",
            "omarhanyy/500-greatest-songs-of-all-time                500 Greatest Songs of All Time                    114KB  2020-11-19 19:08:28           1662  \n",
            "google/tinyquickdraw                                    QuickDraw Sketches                                 11GB  2018-04-18 19:38:04           2485  \n",
            "datasnaek/youtube-new                                   Trending YouTube Video Statistics                 201MB  2019-06-03 00:56:47         116234  \n",
            "uciml/mushroom-classification                           Mushroom Classification                            34KB  2016-12-01 23:08:00          55129  \n",
            "anikannal/solar-power-generation-data                   Solar Power Generation Data                         2MB  2020-08-18 15:52:03          10372  \n",
            "zynicide/wine-reviews                                   Wine Reviews                                       51MB  2017-11-27 17:08:04         119673  \n"
          ],
          "name": "stdout"
        }
      ]
    },
    {
      "cell_type": "code",
      "metadata": {
        "colab": {
          "background_save": true,
          "base_uri": "https://localhost:8080/"
        },
        "id": "P9ZDKJOyY7kB",
        "outputId": "91224a93-6aa1-4c12-ed18-8330d4d8e87d"
      },
      "source": [
        "!kaggle datasets download -d akkithetechie/furniture-detector"
      ],
      "execution_count": null,
      "outputs": [
        {
          "output_type": "stream",
          "text": [
            "furniture-detector.zip: Skipping, found more recently modified local copy (use --force to force download)\n"
          ],
          "name": "stdout"
        }
      ]
    },
    {
      "cell_type": "code",
      "metadata": {
        "colab": {
          "base_uri": "https://localhost:8080/"
        },
        "id": "2_4JMg_5bOfB",
        "outputId": "013743b2-8aa8-4421-8d5d-88bbf486fbfb"
      },
      "source": [
        "!ls -la furniture-images/img/train/"
      ],
      "execution_count": null,
      "outputs": [
        {
          "output_type": "stream",
          "text": [
            "total 168\n",
            "drwxr-xr-x 7 root root  4096 Nov 20 11:38 .\n",
            "drwxr-xr-x 4 root root  4096 Nov 20 11:38 ..\n",
            "drwxr-xr-x 2 root root 36864 Nov 20 11:38 bed\n",
            "drwxr-xr-x 2 root root 36864 Nov 20 11:38 chair\n",
            "drwxr-xr-x 2 root root 32768 Nov 20 11:38 sofa\n",
            "drwxr-xr-x 2 root root 36864 Nov 20 11:38 swivelchair\n",
            "drwxr-xr-x 2 root root 20480 Nov 20 11:38 table\n"
          ],
          "name": "stdout"
        }
      ]
    },
    {
      "cell_type": "markdown",
      "metadata": {
        "id": "-qWkWp2Oe2SL"
      },
      "source": [
        "# Data loading and preparation\n"
      ]
    },
    {
      "cell_type": "code",
      "metadata": {
        "id": "79Bo5rOyetOD"
      },
      "source": [
        "data_dir = 'furniture-images/img/train'\n",
        "img_height = 180\n",
        "img_width = 180\n",
        "batch_size = 32"
      ],
      "execution_count": null,
      "outputs": []
    },
    {
      "cell_type": "code",
      "metadata": {
        "colab": {
          "base_uri": "https://localhost:8080/"
        },
        "id": "DPExInhyeqlM",
        "outputId": "f5d7bebe-c17e-4fbb-96e4-7019ebbf03e1"
      },
      "source": [
        "train_ds = tf.keras.preprocessing.image_dataset_from_directory(\n",
        "    data_dir,\n",
        "    validation_split=0.2,\n",
        "    subset='training',\n",
        "    seed=1708,\n",
        "    image_size=(img_height, img_width),\n",
        "    batch_size=batch_size\n",
        ")"
      ],
      "execution_count": null,
      "outputs": [
        {
          "output_type": "stream",
          "text": [
            "Found 4024 files belonging to 5 classes.\n",
            "Using 3220 files for training.\n"
          ],
          "name": "stdout"
        }
      ]
    },
    {
      "cell_type": "code",
      "metadata": {
        "colab": {
          "base_uri": "https://localhost:8080/"
        },
        "id": "X3qmzR90fwaf",
        "outputId": "ac46eac3-891c-455f-b28b-4014002ad91f"
      },
      "source": [
        "val_ds = tf.keras.preprocessing.image_dataset_from_directory(\n",
        "    data_dir,\n",
        "    validation_split=0.2,\n",
        "    subset='validation',\n",
        "    seed=1708,\n",
        "    image_size=(img_height, img_width),\n",
        "    batch_size=batch_size\n",
        ")"
      ],
      "execution_count": null,
      "outputs": [
        {
          "output_type": "stream",
          "text": [
            "Found 4024 files belonging to 5 classes.\n",
            "Using 804 files for validation.\n"
          ],
          "name": "stdout"
        }
      ]
    },
    {
      "cell_type": "code",
      "metadata": {
        "id": "UALGZhUBO5hJ",
        "colab": {
          "base_uri": "https://localhost:8080/"
        },
        "outputId": "4d3ae0ab-88d0-4be9-8bbf-b0d91faa60fd"
      },
      "source": [
        "class_names = train_ds.class_names\n",
        "print(class_names)"
      ],
      "execution_count": null,
      "outputs": [
        {
          "output_type": "stream",
          "text": [
            "['bed', 'chair', 'sofa', 'swivelchair', 'table']\n"
          ],
          "name": "stdout"
        }
      ]
    },
    {
      "cell_type": "code",
      "metadata": {
        "id": "fBDi4TvagP2o"
      },
      "source": [
        "AUTOTUNE = tf.data.experimental.AUTOTUNE\n",
        "\n",
        "train_ds = train_ds.cache().shuffle(1000).prefetch(buffer_size=AUTOTUNE)\n",
        "val_ds = val_ds.shuffle(1000).prefetch(buffer_size=AUTOTUNE)"
      ],
      "execution_count": null,
      "outputs": []
    },
    {
      "cell_type": "markdown",
      "metadata": {
        "id": "Dwo01w00gu-i"
      },
      "source": [
        "# Model \n",
        "\n"
      ]
    },
    {
      "cell_type": "code",
      "metadata": {
        "id": "HiIIM0vRgw2F"
      },
      "source": [
        "num_classes = 5\n",
        "\n",
        "model = Sequential([\n",
        "  layers.experimental.preprocessing.Rescaling(1./255, input_shape=(img_height, img_width, 3)),\n",
        "  layers.Conv2D(16, 3, padding='same', activation='relu'),\n",
        "  layers.MaxPooling2D(),\n",
        "  layers.Conv2D(32, 3, padding='same', activation='relu'),\n",
        "  layers.MaxPooling2D(),\n",
        "  layers.Conv2D(64, 3, padding='same', activation='relu'),\n",
        "  layers.MaxPooling2D(),\n",
        "  layers.Flatten(),\n",
        "  layers.Dense(128, activation='relu'),\n",
        "  layers.Dense(num_classes)\n",
        "])"
      ],
      "execution_count": null,
      "outputs": []
    },
    {
      "cell_type": "code",
      "metadata": {
        "id": "-raKdCTfiBEv"
      },
      "source": [
        "model.compile(\n",
        "    optimizer='adam',\n",
        "    loss=tf.keras.losses.SparseCategoricalCrossentropy(from_logits=True),\n",
        "    metrics=['accuracy']\n",
        ")"
      ],
      "execution_count": null,
      "outputs": []
    },
    {
      "cell_type": "code",
      "metadata": {
        "colab": {
          "base_uri": "https://localhost:8080/"
        },
        "id": "5I7Oh4xUi_qp",
        "outputId": "4c41cfe3-7216-4cdb-c13f-864960cf665b"
      },
      "source": [
        "model.summary()"
      ],
      "execution_count": null,
      "outputs": [
        {
          "output_type": "stream",
          "text": [
            "Model: \"sequential_3\"\n",
            "_________________________________________________________________\n",
            "Layer (type)                 Output Shape              Param #   \n",
            "=================================================================\n",
            "rescaling_2 (Rescaling)      (None, 180, 180, 3)       0         \n",
            "_________________________________________________________________\n",
            "conv2d_6 (Conv2D)            (None, 180, 180, 16)      448       \n",
            "_________________________________________________________________\n",
            "max_pooling2d_6 (MaxPooling2 (None, 90, 90, 16)        0         \n",
            "_________________________________________________________________\n",
            "conv2d_7 (Conv2D)            (None, 90, 90, 32)        4640      \n",
            "_________________________________________________________________\n",
            "max_pooling2d_7 (MaxPooling2 (None, 45, 45, 32)        0         \n",
            "_________________________________________________________________\n",
            "conv2d_8 (Conv2D)            (None, 45, 45, 64)        18496     \n",
            "_________________________________________________________________\n",
            "max_pooling2d_8 (MaxPooling2 (None, 22, 22, 64)        0         \n",
            "_________________________________________________________________\n",
            "flatten_2 (Flatten)          (None, 30976)             0         \n",
            "_________________________________________________________________\n",
            "dense_4 (Dense)              (None, 128)               3965056   \n",
            "_________________________________________________________________\n",
            "dense_5 (Dense)              (None, 5)                 645       \n",
            "=================================================================\n",
            "Total params: 3,989,285\n",
            "Trainable params: 3,989,285\n",
            "Non-trainable params: 0\n",
            "_________________________________________________________________\n"
          ],
          "name": "stdout"
        }
      ]
    },
    {
      "cell_type": "code",
      "metadata": {
        "colab": {
          "base_uri": "https://localhost:8080/"
        },
        "id": "-Sl3QnjOjNhK",
        "outputId": "02426d72-ff14-426c-8a79-5d633e7b1e87"
      },
      "source": [
        "epochs = 10\n",
        "history = model.fit(\n",
        "    train_ds,\n",
        "    validation_data=val_ds,\n",
        "    epochs=epochs\n",
        ")"
      ],
      "execution_count": null,
      "outputs": [
        {
          "output_type": "stream",
          "text": [
            "Epoch 1/10\n",
            "101/101 [==============================] - 97s 962ms/step - loss: 1.1046 - accuracy: 0.5997 - val_loss: 0.6673 - val_accuracy: 0.7736\n",
            "Epoch 2/10\n",
            "101/101 [==============================] - 97s 963ms/step - loss: 0.5578 - accuracy: 0.8081 - val_loss: 0.5992 - val_accuracy: 0.7960\n",
            "Epoch 3/10\n",
            "101/101 [==============================] - 98s 968ms/step - loss: 0.3661 - accuracy: 0.8755 - val_loss: 0.5422 - val_accuracy: 0.8134\n",
            "Epoch 4/10\n",
            "101/101 [==============================] - 98s 970ms/step - loss: 0.2078 - accuracy: 0.9339 - val_loss: 0.5661 - val_accuracy: 0.8433\n",
            "Epoch 5/10\n",
            "101/101 [==============================] - 101s 999ms/step - loss: 0.1114 - accuracy: 0.9609 - val_loss: 0.7148 - val_accuracy: 0.8259\n",
            "Epoch 6/10\n",
            "101/101 [==============================] - 98s 970ms/step - loss: 0.0638 - accuracy: 0.9786 - val_loss: 0.6970 - val_accuracy: 0.8470\n",
            "Epoch 7/10\n",
            "101/101 [==============================] - 98s 972ms/step - loss: 0.0262 - accuracy: 0.9950 - val_loss: 0.8103 - val_accuracy: 0.8445\n",
            "Epoch 8/10\n",
            "101/101 [==============================] - 98s 969ms/step - loss: 0.0182 - accuracy: 0.9963 - val_loss: 0.9504 - val_accuracy: 0.8308\n",
            "Epoch 9/10\n",
            "101/101 [==============================] - 98s 967ms/step - loss: 0.0368 - accuracy: 0.9891 - val_loss: 0.8286 - val_accuracy: 0.8147\n",
            "Epoch 10/10\n",
            "101/101 [==============================] - 98s 970ms/step - loss: 0.0170 - accuracy: 0.9947 - val_loss: 0.9970 - val_accuracy: 0.8445\n"
          ],
          "name": "stdout"
        }
      ]
    },
    {
      "cell_type": "code",
      "metadata": {
        "colab": {
          "base_uri": "https://localhost:8080/",
          "height": 499
        },
        "id": "jpq_aBnUruZD",
        "outputId": "46749c3e-2928-4629-cafe-48379b07eb36"
      },
      "source": [
        "def visualize_training_result():\n",
        "  acc = history.history['accuracy']\n",
        "  val_acc = history.history['val_accuracy']\n",
        "\n",
        "  loss = history.history['loss']\n",
        "  val_loss = history.history['val_loss']\n",
        "\n",
        "  epochs_range = range(epochs)\n",
        "\n",
        "  plt.figure(figsize=(8, 8))\n",
        "  plt.subplot(1, 2, 1)\n",
        "  plt.plot(epochs_range, acc, label='Training Accuracy')\n",
        "  plt.plot(epochs_range, val_acc, label='Validation Accuracy')\n",
        "  plt.legend(loc='lower right')\n",
        "  plt.title('Training and Validation Accuracy')\n",
        "\n",
        "  plt.subplot(1, 2, 2)\n",
        "  plt.plot(epochs_range, loss, label='Training Loss')\n",
        "  plt.plot(epochs_range, val_loss, label='Validation Loss')\n",
        "  plt.legend(loc='upper right')\n",
        "  plt.title('Training and Validation Loss')\n",
        "  plt.show()\n",
        "\n",
        "visualize_training_result()"
      ],
      "execution_count": null,
      "outputs": [
        {
          "output_type": "display_data",
          "data": {
            "image/png": "[encoded data removed]",
            "text/plain": [
              "<Figure size 576x576 with 2 Axes>"
            ]
          },
          "metadata": {
            "tags": [],
            "needs_background": "light"
          }
        }
      ]
    },
    {
      "cell_type": "code",
      "metadata": {
        "colab": {
          "base_uri": "https://localhost:8080/"
        },
        "id": "KOQxRkfn4-9v",
        "outputId": "7ac82196-7cb5-4c62-c94f-7a8bed02d23e"
      },
      "source": [
        "epochs = 15\n",
        "history = model.fit(\n",
        "    train_ds,\n",
        "    validation_data=val_ds,\n",
        "    epochs=epochs\n",
        ")"
      ],
      "execution_count": null,
      "outputs": [
        {
          "output_type": "stream",
          "text": [
            "Epoch 1/15\n",
            "101/101 [==============================] - 98s 967ms/step - loss: 1.0371 - accuracy: 0.6000 - val_loss: 0.6741 - val_accuracy: 0.7749\n",
            "Epoch 2/15\n",
            "101/101 [==============================] - 97s 964ms/step - loss: 0.5744 - accuracy: 0.8043 - val_loss: 0.5339 - val_accuracy: 0.8246\n",
            "Epoch 3/15\n",
            "101/101 [==============================] - 98s 972ms/step - loss: 0.3764 - accuracy: 0.8724 - val_loss: 0.5318 - val_accuracy: 0.8234\n",
            "Epoch 4/15\n",
            "101/101 [==============================] - 98s 967ms/step - loss: 0.2294 - accuracy: 0.9211 - val_loss: 0.5365 - val_accuracy: 0.8495\n",
            "Epoch 5/15\n",
            "101/101 [==============================] - 98s 966ms/step - loss: 0.1249 - accuracy: 0.9606 - val_loss: 0.6993 - val_accuracy: 0.8159\n",
            "Epoch 6/15\n",
            "101/101 [==============================] - 98s 969ms/step - loss: 0.0771 - accuracy: 0.9739 - val_loss: 0.8253 - val_accuracy: 0.8358\n",
            "Epoch 7/15\n",
            "101/101 [==============================] - 98s 971ms/step - loss: 0.0394 - accuracy: 0.9888 - val_loss: 0.8237 - val_accuracy: 0.8246\n",
            "Epoch 8/15\n",
            "101/101 [==============================] - 98s 975ms/step - loss: 0.0250 - accuracy: 0.9932 - val_loss: 0.8747 - val_accuracy: 0.8321\n",
            "Epoch 9/15\n",
            "101/101 [==============================] - 99s 978ms/step - loss: 0.0275 - accuracy: 0.9935 - val_loss: 0.9314 - val_accuracy: 0.8259\n",
            "Epoch 10/15\n",
            "101/101 [==============================] - 99s 977ms/step - loss: 0.0206 - accuracy: 0.9960 - val_loss: 1.1443 - val_accuracy: 0.8184\n",
            "Epoch 11/15\n",
            "101/101 [==============================] - 99s 977ms/step - loss: 0.0323 - accuracy: 0.9901 - val_loss: 1.0515 - val_accuracy: 0.8271\n",
            "Epoch 12/15\n",
            "101/101 [==============================] - 99s 979ms/step - loss: 0.0142 - accuracy: 0.9953 - val_loss: 1.3174 - val_accuracy: 0.8284\n",
            "Epoch 13/15\n",
            "101/101 [==============================] - 99s 985ms/step - loss: 0.0201 - accuracy: 0.9947 - val_loss: 1.1912 - val_accuracy: 0.7960\n",
            "Epoch 14/15\n",
            "101/101 [==============================] - 99s 984ms/step - loss: 0.0349 - accuracy: 0.9854 - val_loss: 1.2947 - val_accuracy: 0.8246\n",
            "Epoch 15/15\n",
            "101/101 [==============================] - 99s 976ms/step - loss: 0.0304 - accuracy: 0.9916 - val_loss: 1.4019 - val_accuracy: 0.8085\n"
          ],
          "name": "stdout"
        }
      ]
    },
    {
      "cell_type": "code",
      "metadata": {
        "colab": {
          "base_uri": "https://localhost:8080/",
          "height": 499
        },
        "id": "dHXYAYbO5PFw",
        "outputId": "9b57d307-74d9-401c-9dcf-2fdfc22bac12"
      },
      "source": [
        "visualize_training_result()"
      ],
      "execution_count": null,
      "outputs": [
        {
          "output_type": "display_data",
          "data": {
            "image/png": "[encoded data removed]",
            "text/plain": [
              "<Figure size 576x576 with 2 Axes>"
            ]
          },
          "metadata": {
            "tags": [],
            "needs_background": "light"
          }
        }
      ]
    },
    {
      "cell_type": "markdown",
      "metadata": {
        "id": "0HI1E0zAsCso"
      },
      "source": [
        "# Play a bit with data and model\n"
      ]
    },
    {
      "cell_type": "code",
      "metadata": {
        "id": "ZCxFhXm9sCGc"
      },
      "source": [
        "data_augmentation = keras.Sequential(\n",
        "  [\n",
        "    layers.experimental.preprocessing.RandomFlip(\"horizontal\", \n",
        "                                                 input_shape=(img_height, \n",
        "                                                              img_width,\n",
        "                                                              3)),\n",
        "    layers.experimental.preprocessing.RandomRotation(0.1),\n",
        "    layers.experimental.preprocessing.RandomZoom(0.1),\n",
        "  ]\n",
        ")"
      ],
      "execution_count": null,
      "outputs": []
    },
    {
      "cell_type": "code",
      "metadata": {
        "id": "8s5ZMWgwsTvt"
      },
      "source": [
        ""
      ],
      "execution_count": null,
      "outputs": []
    },
    {
      "cell_type": "code",
      "metadata": {
        "id": "2Zeg8zsqXCsm"
      },
      "source": [
        "model = Sequential([\n",
        "  data_augmentation,\n",
        "  layers.experimental.preprocessing.Rescaling(1./255),\n",
        "  layers.Conv2D(16, 3, padding='same', activation='relu'),\n",
        "  layers.MaxPooling2D(),\n",
        "  layers.Conv2D(32, 3, padding='same', activation='relu'),\n",
        "  layers.MaxPooling2D(),\n",
        "  layers.Conv2D(64, 3, padding='same', activation='relu'),\n",
        "  layers.MaxPooling2D(),\n",
        "  layers.Dropout(0.2),\n",
        "  layers.Flatten(),\n",
        "  layers.Dense(128, activation='relu'),\n",
        "  layers.Dense(num_classes)\n",
        "])"
      ],
      "execution_count": null,
      "outputs": []
    },
    {
      "cell_type": "code",
      "metadata": {
        "id": "EvyAINs9ZOmJ"
      },
      "source": [
        "model.compile(optimizer='adam',\n",
        "              loss=tf.keras.losses.SparseCategoricalCrossentropy(from_logits=True),\n",
        "              metrics=['accuracy'])"
      ],
      "execution_count": null,
      "outputs": []
    },
    {
      "cell_type": "code",
      "metadata": {
        "colab": {
          "base_uri": "https://localhost:8080/"
        },
        "id": "PC8qworMscRk",
        "outputId": "d6d11bd4-1ee0-4c13-81b0-7a32b0dc32b2"
      },
      "source": [
        "model.summary()"
      ],
      "execution_count": null,
      "outputs": [
        {
          "output_type": "stream",
          "text": [
            "Model: \"sequential_2\"\n",
            "_________________________________________________________________\n",
            "Layer (type)                 Output Shape              Param #   \n",
            "=================================================================\n",
            "sequential_1 (Sequential)    (None, 180, 180, 3)       0         \n",
            "_________________________________________________________________\n",
            "rescaling_1 (Rescaling)      (None, 180, 180, 3)       0         \n",
            "_________________________________________________________________\n",
            "conv2d_3 (Conv2D)            (None, 180, 180, 16)      448       \n",
            "_________________________________________________________________\n",
            "max_pooling2d_3 (MaxPooling2 (None, 90, 90, 16)        0         \n",
            "_________________________________________________________________\n",
            "conv2d_4 (Conv2D)            (None, 90, 90, 32)        4640      \n",
            "_________________________________________________________________\n",
            "max_pooling2d_4 (MaxPooling2 (None, 45, 45, 32)        0         \n",
            "_________________________________________________________________\n",
            "conv2d_5 (Conv2D)            (None, 45, 45, 64)        18496     \n",
            "_________________________________________________________________\n",
            "max_pooling2d_5 (MaxPooling2 (None, 22, 22, 64)        0         \n",
            "_________________________________________________________________\n",
            "dropout (Dropout)            (None, 22, 22, 64)        0         \n",
            "_________________________________________________________________\n",
            "flatten_1 (Flatten)          (None, 30976)             0         \n",
            "_________________________________________________________________\n",
            "dense_2 (Dense)              (None, 128)               3965056   \n",
            "_________________________________________________________________\n",
            "dense_3 (Dense)              (None, 5)                 645       \n",
            "=================================================================\n",
            "Total params: 3,989,285\n",
            "Trainable params: 3,989,285\n",
            "Non-trainable params: 0\n",
            "_________________________________________________________________\n"
          ],
          "name": "stdout"
        }
      ]
    },
    {
      "cell_type": "code",
      "metadata": {
        "id": "LWS-vvNaZDag",
        "colab": {
          "base_uri": "https://localhost:8080/"
        },
        "outputId": "81a29a94-5682-42a2-b6ec-7bcca0600c8b"
      },
      "source": [
        "epochs = 15\n",
        "history = model.fit(\n",
        "  train_ds,\n",
        "  validation_data=val_ds,\n",
        "  epochs=epochs\n",
        ")"
      ],
      "execution_count": null,
      "outputs": [
        {
          "output_type": "stream",
          "text": [
            "Epoch 1/15\n",
            "101/101 [==============================] - 115s 1s/step - loss: 1.2097 - accuracy: 0.5217 - val_loss: 0.8095 - val_accuracy: 0.6903\n",
            "Epoch 2/15\n",
            "101/101 [==============================] - 115s 1s/step - loss: 0.8882 - accuracy: 0.6596 - val_loss: 0.7545 - val_accuracy: 0.7127\n",
            "Epoch 3/15\n",
            "101/101 [==============================] - 115s 1s/step - loss: 0.7449 - accuracy: 0.7273 - val_loss: 0.5870 - val_accuracy: 0.7960\n",
            "Epoch 4/15\n",
            "101/101 [==============================] - 115s 1s/step - loss: 0.6395 - accuracy: 0.7683 - val_loss: 0.5308 - val_accuracy: 0.8246\n",
            "Epoch 5/15\n",
            "101/101 [==============================] - 116s 1s/step - loss: 0.6252 - accuracy: 0.7786 - val_loss: 0.5188 - val_accuracy: 0.8147\n",
            "Epoch 6/15\n",
            "101/101 [==============================] - 115s 1s/step - loss: 0.5784 - accuracy: 0.7929 - val_loss: 0.5428 - val_accuracy: 0.8085\n",
            "Epoch 7/15\n",
            "101/101 [==============================] - 116s 1s/step - loss: 0.5298 - accuracy: 0.8130 - val_loss: 0.4331 - val_accuracy: 0.8458\n",
            "Epoch 8/15\n",
            "101/101 [==============================] - 116s 1s/step - loss: 0.5123 - accuracy: 0.8202 - val_loss: 0.4385 - val_accuracy: 0.8570\n",
            "Epoch 9/15\n",
            "101/101 [==============================] - 116s 1s/step - loss: 0.4708 - accuracy: 0.8379 - val_loss: 0.4662 - val_accuracy: 0.8383\n",
            "Epoch 10/15\n",
            "101/101 [==============================] - 115s 1s/step - loss: 0.4562 - accuracy: 0.8413 - val_loss: 0.4975 - val_accuracy: 0.8246\n",
            "Epoch 11/15\n",
            "101/101 [==============================] - 116s 1s/step - loss: 0.4443 - accuracy: 0.8478 - val_loss: 0.4275 - val_accuracy: 0.8483\n",
            "Epoch 12/15\n",
            "101/101 [==============================] - 116s 1s/step - loss: 0.4233 - accuracy: 0.8503 - val_loss: 0.3729 - val_accuracy: 0.8607\n",
            "Epoch 13/15\n",
            "101/101 [==============================] - 116s 1s/step - loss: 0.3990 - accuracy: 0.8599 - val_loss: 0.3727 - val_accuracy: 0.8756\n",
            "Epoch 14/15\n",
            "101/101 [==============================] - 119s 1s/step - loss: 0.3634 - accuracy: 0.8677 - val_loss: 0.3532 - val_accuracy: 0.8756\n",
            "Epoch 15/15\n",
            "101/101 [==============================] - 116s 1s/step - loss: 0.3380 - accuracy: 0.8807 - val_loss: 0.4224 - val_accuracy: 0.8595\n"
          ],
          "name": "stdout"
        }
      ]
    },
    {
      "cell_type": "code",
      "metadata": {
        "id": "dduoLfKsZVIA",
        "colab": {
          "base_uri": "https://localhost:8080/",
          "height": 499
        },
        "outputId": "ae0a506a-fd89-47c5-efc2-e43714ac2692"
      },
      "source": [
        "acc = history.history['accuracy']\n",
        "val_acc = history.history['val_accuracy']\n",
        "\n",
        "loss = history.history['loss']\n",
        "val_loss = history.history['val_loss']\n",
        "\n",
        "epochs_range = range(epochs)\n",
        "\n",
        "plt.figure(figsize=(8, 8))\n",
        "plt.subplot(1, 2, 1)\n",
        "plt.plot(epochs_range, acc, label='Training Accuracy')\n",
        "plt.plot(epochs_range, val_acc, label='Validation Accuracy')\n",
        "plt.legend(loc='lower right')\n",
        "plt.title('Training and Validation Accuracy')\n",
        "\n",
        "plt.subplot(1, 2, 2)\n",
        "plt.plot(epochs_range, loss, label='Training Loss')\n",
        "plt.plot(epochs_range, val_loss, label='Validation Loss')\n",
        "plt.legend(loc='upper right')\n",
        "plt.title('Training and Validation Loss')\n",
        "plt.show()"
      ],
      "execution_count": null,
      "outputs": [
        {
          "output_type": "display_data",
          "data": {
            "image/png": "[encoded data removed]",
            "text/plain": [
              "<Figure size 576x576 with 2 Axes>"
            ]
          },
          "metadata": {
            "tags": [],
            "needs_background": "light"
          }
        }
      ]
    },
    {
      "cell_type": "markdown",
      "metadata": {
        "id": "_3pOvt9HAk7b"
      },
      "source": [
        "# Save the model"
      ]
    },
    {
      "cell_type": "code",
      "metadata": {
        "colab": {
          "base_uri": "https://localhost:8080/"
        },
        "id": "MPtK7zmnAm3C",
        "outputId": "5dd9df7e-3160-44c8-b00d-d59dcd1ab814"
      },
      "source": [
        "!mkdir -p saved_model\n",
        "model.save('saved_model/furniture-classification-model')"
      ],
      "execution_count": null,
      "outputs": [
        {
          "output_type": "stream",
          "text": [
            "WARNING:tensorflow:From /usr/local/lib/python3.6/dist-packages/tensorflow/python/training/tracking/tracking.py:111: Model.state_updates (from tensorflow.python.keras.engine.training) is deprecated and will be removed in a future version.\n",
            "Instructions for updating:\n",
            "This property should not be used in TensorFlow 2.0, as updates are applied automatically.\n",
            "WARNING:tensorflow:From /usr/local/lib/python3.6/dist-packages/tensorflow/python/training/tracking/tracking.py:111: Layer.updates (from tensorflow.python.keras.engine.base_layer) is deprecated and will be removed in a future version.\n",
            "Instructions for updating:\n",
            "This property should not be used in TensorFlow 2.0, as updates are applied automatically.\n",
            "INFO:tensorflow:Assets written to: saved_model/furniture-classification-model/assets\n"
          ],
          "name": "stdout"
        }
      ]
    },
    {
      "cell_type": "code",
      "metadata": {
        "colab": {
          "base_uri": "https://localhost:8080/"
        },
        "id": "y2_IYukJA_Sb",
        "outputId": "268237ae-86dd-43ec-c938-513a8a1643b1"
      },
      "source": [
        "!ls saved_model/furniture-classification-model"
      ],
      "execution_count": null,
      "outputs": [
        {
          "output_type": "stream",
          "text": [
            "assets\tsaved_model.pb\tvariables\n"
          ],
          "name": "stdout"
        }
      ]
    },
    {
      "cell_type": "code",
      "metadata": {
        "colab": {
          "base_uri": "https://localhost:8080/"
        },
        "id": "M7nD_lRWBAag",
        "outputId": "366ceed3-5de7-429f-f833-36811ce9ed9f"
      },
      "source": [
        "converter = tf.lite.TFLiteConverter.from_saved_model('saved_model/furniture-classification-model')\n",
        "tflite_model = converter.convert()\n",
        "open('furniture-classificatin-model.tflite', 'wb').write(tflite_model)"
      ],
      "execution_count": null,
      "outputs": [
        {
          "output_type": "execute_result",
          "data": {
            "text/plain": [
              "15962292"
            ]
          },
          "metadata": {
            "tags": []
          },
          "execution_count": 79
        }
      ]
    },
    {
      "cell_type": "code",
      "metadata": {
        "id": "1MuGbZyMHzg9",
        "colab": {
          "base_uri": "https://localhost:8080/"
        },
        "outputId": "bd545f0c-69c1-48c3-c665-b657376b0e05"
      },
      "source": [
        "class_names"
      ],
      "execution_count": null,
      "outputs": [
        {
          "output_type": "execute_result",
          "data": {
            "text/plain": [
              "['bed', 'chair', 'sofa', 'swivelchair', 'table']"
            ]
          },
          "metadata": {
            "tags": []
          },
          "execution_count": 81
        }
      ]
    }
  ]
}